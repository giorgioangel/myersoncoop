{
 "cells": [
  {
   "cell_type": "code",
   "execution_count": 1,
   "id": "editorial-breathing",
   "metadata": {},
   "outputs": [],
   "source": [
    "import numpy as np\n",
    "import scipy.stats as stats"
   ]
  },
  {
   "cell_type": "code",
   "execution_count": 32,
   "id": "gorgeous-convert",
   "metadata": {},
   "outputs": [],
   "source": [
    "# SELECT THE POLICIES FOR TEAM A AND B\n",
    "pol_a = 'smart'\n",
    "pol_b = 'nothing'"
   ]
  },
  {
   "cell_type": "code",
   "execution_count": 27,
   "id": "strange-discussion",
   "metadata": {},
   "outputs": [],
   "source": [
    "data1 = np.load('exact_myerson_a'+pol_a+'_b'+pol_b+'.npz')\n",
    "data2 = np.load('exact_shapley_a'+pol_a+'_b'+pol_b+'.npz')"
   ]
  },
  {
   "cell_type": "code",
   "execution_count": 28,
   "id": "ruled-photographer",
   "metadata": {},
   "outputs": [],
   "source": [
    "myerson = data1['v']\n",
    "shapley = data2['v']\n",
    "#zeroes = np.zeros(myerson.shape[1])"
   ]
  },
  {
   "cell_type": "code",
   "execution_count": 30,
   "id": "residential-boston",
   "metadata": {},
   "outputs": [],
   "source": [
    "attr = ['Warrior HP', 'Warrior Policy', 'Warrior AP', 'Warrior HealingP', 'Warrior CC',\n",
    "        'Mage HP', 'Mage Policy', 'Mage AP', 'Mage HealingP', 'Mage CC',\n",
    "        'Priest HP', 'Priest Policy', 'Priest AP', 'Priest HealingP', 'Priest CC',]"
   ]
  },
  {
   "cell_type": "code",
   "execution_count": 31,
   "id": "offensive-writer",
   "metadata": {},
   "outputs": [
    {
     "name": "stdout",
     "output_type": "stream",
     "text": [
      "Warrior HP\n",
      "22813.0 0.014988470242762158\n",
      "STATISTICALLY DIFFERENT *\n",
      "\n",
      "Warrior Policy\n",
      "22781.0 0.016173382416199977\n",
      "STATISTICALLY DIFFERENT *\n",
      "\n",
      "\n",
      "\n",
      "\n",
      "\n",
      "\n",
      "\n",
      "\n",
      "\n",
      "\n",
      "\n",
      "\n",
      "\n",
      "\n"
     ]
    }
   ],
   "source": [
    "# PRINT WHETHER MYERSON AND SHAPLEY ATTRIBUTES ARE STATISTICALLY DIFFERENT\n",
    "for i in range(myerson.shape[0]):\n",
    "    s, p = stats.mannwhitneyu(x=shapley[i], y=myerson[i])\n",
    "    #s, p = stats.mannwhitneyu(x=shapley[i], y=zeroes)\n",
    "    if p < 0.001:\n",
    "        print(attr[i])\n",
    "        print(s, p)\n",
    "        print(\"STATISTICALLY DIFFERENT ***\")\n",
    "    elif p < 0.01:\n",
    "        print(attr[i])\n",
    "        print(s, p)\n",
    "        print(\"STATISTICALLY DIFFERENT **\")\n",
    "    elif p < 0.05:\n",
    "        print(attr[i])\n",
    "        print(s, p)\n",
    "        print(\"STATISTICALLY DIFFERENT *\")\n",
    "    else:\n",
    "        pass\n",
    "    print(\"\")"
   ]
  }
 ],
 "metadata": {
  "kernelspec": {
   "display_name": "Python 3",
   "language": "python",
   "name": "python3"
  },
  "language_info": {
   "codemirror_mode": {
    "name": "ipython",
    "version": 3
   },
   "file_extension": ".py",
   "mimetype": "text/x-python",
   "name": "python",
   "nbconvert_exporter": "python",
   "pygments_lexer": "ipython3",
   "version": "3.8.6"
  }
 },
 "nbformat": 4,
 "nbformat_minor": 5
}
